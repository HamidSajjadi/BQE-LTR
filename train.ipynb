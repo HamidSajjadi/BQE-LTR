{
 "cells": [
  {
   "cell_type": "code",
   "execution_count": 1,
   "metadata": {},
   "outputs": [],
   "source": [
    "import pandas as pd\n",
    "import numpy as np\n",
    "import torch\n",
    "from torch import nn\n",
    "from torch.utils.data import TensorDataset, DataLoader\n",
    "from data import get_fold_queries, create_pos_neg_pair_df, RankNetDatasetWithMap, RankNetDataset\n",
    "from transformers import BertForMaskedLM, BertTokenizer\n",
    "from utils import load_pickle"
   ]
  },
  {
   "cell_type": "code",
   "execution_count": 2,
   "metadata": {},
   "outputs": [],
   "source": [
    "\n",
    "model_path = \"./models/bert/Saved_model_epochs_5/\"\n",
    "model = BertForMaskedLM.from_pretrained(model_path)\n",
    "tokenizer = BertTokenizer.from_pretrained(model_path)\n",
    "base_model = model.bert\n",
    "del model\n",
    "device = torch.device(\"cuda\" if torch.cuda.is_available() else 'cpu')\n",
    "base_model= base_model.to(device) \n"
   ]
  },
  {
   "cell_type": "code",
   "execution_count": 3,
   "metadata": {},
   "outputs": [],
   "source": [
    "embedding_map = load_pickle(\"./data/expanded_queries_embeddings.pkl\")"
   ]
  },
  {
   "cell_type": "code",
   "execution_count": 4,
   "metadata": {},
   "outputs": [
    {
     "name": "stdout",
     "output_type": "stream",
     "text": [
      "torch.Size([8, 256])\n"
     ]
    }
   ],
   "source": [
    "for key, value in embedding_map.items():\n",
    "    print(value.shape)\n",
    "    break"
   ]
  },
  {
   "cell_type": "code",
   "execution_count": 5,
   "metadata": {},
   "outputs": [],
   "source": [
    "def create_dataset(df, fold_number, split='train'):\n",
    "    fold_queries = get_fold_queries(fold_number, split, path='./data/queries_5_fold.csv')\n",
    "    fold_df = df[df[\"Q_name\"].isin(fold_queries)]\n",
    "    out_df = create_pos_neg_pair_df(fold_df, max_sample_per_query=200)\n",
    "    # return RankNetDataset(out_df, tokenizer, bert=base_model, device=device)\n",
    "    return RankNetDatasetWithMap(out_df, embedding_map)"
   ]
  },
  {
   "cell_type": "code",
   "execution_count": 6,
   "metadata": {},
   "outputs": [
    {
     "data": {
      "text/plain": [
       "(244382, 108880)"
      ]
     },
     "execution_count": 6,
     "metadata": {},
     "output_type": "execute_result"
    }
   ],
   "source": [
    "df = pd.read_csv('./data/recall/expanded_and_labeled_queries_with_pubmed_recall_n100_200candidates.csv')\n",
    "train_ds = create_dataset(df,1,'train')\n",
    "val_ds = create_dataset(df,1,'test')\n",
    "len(train_ds), len(val_ds)"
   ]
  },
  {
   "cell_type": "code",
   "execution_count": 7,
   "metadata": {},
   "outputs": [],
   "source": [
    "batch_size = 256\n",
    "\n",
    "train_dl = DataLoader(train_ds, batch_size=batch_size, shuffle=True)\n",
    "val_dl = DataLoader(val_ds, batch_size=batch_size, shuffle=True)\n",
    "\n",
    "epoch = 10\n",
    "experiment_name=\"pubmed_recall_ranknet_300head\""
   ]
  },
  {
   "cell_type": "code",
   "execution_count": 8,
   "metadata": {},
   "outputs": [
    {
     "name": "stderr",
     "output_type": "stream",
     "text": [
      "/home/hamid/virtualenvs/uni_venv/lib/python3.8/site-packages/torch/nn/modules/rnn.py:62: UserWarning: dropout option adds dropout after all but last recurrent layer, so non-zero dropout expects num_layers greater than 1, but got dropout=0.5 and num_layers=1\n",
      "  warnings.warn(\"dropout option adds dropout after all but last \"\n"
     ]
    }
   ],
   "source": [
    "from ranknet import RankNet\n",
    "\n",
    "\n",
    "\n",
    "model = RankNet(embedding_size=256, bidirectional=False, hidden_size=64, dropout_rate=0.5)\n",
    "\n",
    "model = model.to(device)\n"
   ]
  },
  {
   "cell_type": "code",
   "execution_count": 9,
   "metadata": {},
   "outputs": [],
   "source": [
    "learning_rate = 1e-5\n",
    "\n",
    "criterion = nn.BCEWithLogitsLoss() \n",
    "optimizer = torch.optim.Adam(model.parameters(), lr=learning_rate, weight_decay=1e-5)"
   ]
  },
  {
   "cell_type": "code",
   "execution_count": 10,
   "metadata": {},
   "outputs": [],
   "source": [
    "import pathlib\n",
    "def save_model(model, experiment_name, file_name = 'model.pt'):\n",
    "\n",
    "    path='./models/rnn/' + experiment_name\n",
    "    pathlib.Path(path).mkdir(parents=True, exist_ok=True)\n",
    "    torch.save(model.state_dict(), path + '/' + file_name)\n",
    "\n",
    "def load_model(model: nn.Module, experiment_name, file_name = 'model.pt'):\n",
    "\n",
    "    path='./models/rnn/' + experiment_name\n",
    "    model.load_state_dict(torch.load(path + '/' + file_name))\n",
    "    return model\n",
    "\n",
    "def save_model_class(model, experiment_name, file_name = 'model.pt'):\n",
    "    path='./models/rnn/' + experiment_name\n",
    "    pathlib.Path(path).mkdir(parents=True, exist_ok=True)\n",
    "    torch.save(model, path + '/' + file_name)"
   ]
  },
  {
   "cell_type": "code",
   "execution_count": 11,
   "metadata": {},
   "outputs": [],
   "source": [
    "from tqdm import tqdm\n",
    "import numpy as np\n",
    "from sklearn.metrics import f1_score, ndcg_score\n",
    "def evaluate(model, criterion,dataloader):\n",
    "    \"\"\"\n",
    "    Evaluation, return accuracy and loss\n",
    "    \"\"\"\n",
    "    total_loss = 0.0\n",
    "    y_true, y_pred,y_scores = [], [], []\n",
    "    data_len = len(dataloader)\n",
    "    model.eval()  # set mode to evaluation to disable dropout\n",
    "    with torch.no_grad():\n",
    "        for x_i,x_j, y in dataloader:\n",
    "            x_i,x_j, y = x_i.to(device), x_j.to(device), y.to(device)\n",
    "            y_hat = model(x_i, x_j)\n",
    "            y_hat = y_hat.squeeze()\n",
    "            loss = criterion(y_hat.squeeze(), y.to(torch.float))\n",
    "            total_loss += loss.item()\n",
    "            pred =(y_hat > 1).cpu().int().tolist()\n",
    "\n",
    "            labels = y.clone()\n",
    "\n",
    "            y_pred.extend(pred)\n",
    "            y_scores.extend(y_hat.cpu().numpy().flatten().tolist())\n",
    "            y_true.extend(labels.cpu().numpy().flatten().tolist())\n",
    "    \n",
    "    recall = f1_score(y_true, y_pred)\n",
    "    return recall, total_loss / data_len"
   ]
  },
  {
   "cell_type": "code",
   "execution_count": 12,
   "metadata": {},
   "outputs": [
    {
     "name": "stderr",
     "output_type": "stream",
     "text": [
      "loss: 0.4613  f1: 0.7283   eval loss: 0.5713  evall f1: 0.3279: 100%|██████████| 9550/9550 [01:38<00:00, 96.67it/s] \n"
     ]
    }
   ],
   "source": [
    "from torch.autograd import Variable\n",
    "from torch.nn.functional import sigmoid\n",
    "total_number_of_steps = epoch * len(train_dl) \n",
    "eval_loss_steps, eval_rec_steps = [], []\n",
    "train_loss_steps, train_rec_steps = [], []\n",
    "best_recall = 0\n",
    "best_loss = None\n",
    "\n",
    "with tqdm(total=total_number_of_steps) as pbar:\n",
    "    for _ in range(epoch):\n",
    "        model.train()\n",
    "        total_loss = 0.0\n",
    "        y_true, y_pred = [], []\n",
    "        for x_i, x_j, y in train_dl:\n",
    "            x_i = x_i.to(device)\n",
    "            x_j = x_j.to(device)\n",
    "            optimizer.zero_grad()\n",
    "            y_hat = model(x_i, x_j)\n",
    "            # y_hat = sigmoid(y_hat)\n",
    "            loss = criterion(y_hat.squeeze(), y.to(torch.float).to(device))\n",
    "            loss.backward()\n",
    "            optimizer.step()\n",
    "            labels = y.clone()\n",
    "            labels[y == -1] = 0 \n",
    "            total_loss += loss.item()\n",
    "            pred =(y_hat > 0).cpu().numpy().tolist()\n",
    "            y_pred.extend(pred)\n",
    "            y_true.extend(labels.cpu().numpy().tolist())\n",
    "            pbar.update(1)\n",
    "\n",
    "                \n",
    "                \n",
    "        \n",
    "        train_recall = f1_score(y_true, y_pred)\n",
    "        train_loss = total_loss / len(train_dl)\n",
    "        total_loss = 0\n",
    "        y_true = []\n",
    "        y_pred = []\n",
    "        eval_recall, eval_loss = evaluate(model,criterion, val_dl)\n",
    "        if not best_loss or eval_loss < best_loss:\n",
    "            save_model(model, experiment_name, 'best_eval_loss.pt')\n",
    "            best_loss = eval_loss\n",
    "        if eval_recall > best_recall:\n",
    "            save_model(model, experiment_name, 'best_eval_recall.pt')\n",
    "            best_recall = eval_recall\n",
    "        eval_loss_steps.append(eval_loss)\n",
    "        eval_rec_steps.append(eval_recall)\n",
    "        train_loss_steps.append(train_loss)\n",
    "        train_rec_steps.append(train_recall)\n",
    "        pbar.set_description(f\"loss: {train_loss:.4f}  f1: {train_recall:.4f}   eval loss: {eval_loss:.4f}  evall f1: {eval_recall:.4f}\")"
   ]
  },
  {
   "cell_type": "code",
   "execution_count": null,
   "metadata": {},
   "outputs": [
    {
     "data": {
      "text/plain": [
       "[<matplotlib.lines.Line2D at 0x7f1f2c494fd0>,\n",
       " <matplotlib.lines.Line2D at 0x7f1f2c42e040>]"
      ]
     },
     "execution_count": 26,
     "metadata": {},
     "output_type": "execute_result"
    },
    {
     "data": {
      "image/png": "[encoded data removed]",
      "text/plain": [
       "<Figure size 432x288 with 1 Axes>"
      ]
     },
     "metadata": {
      "needs_background": "light"
     },
     "output_type": "display_data"
    }
   ],
   "source": [
    "import matplotlib.pyplot as plt\n",
    "\n",
    "\n",
    "plt.plot(np.linspace(1, len(eval_loss_steps), len(eval_loss_steps)).astype(int), eval_loss_steps, train_loss_steps)\n"
   ]
  },
  {
   "cell_type": "code",
   "execution_count": null,
   "metadata": {},
   "outputs": [
    {
     "data": {
      "text/plain": [
       "[<matplotlib.lines.Line2D at 0x7f1f2c357fd0>,\n",
       " <matplotlib.lines.Line2D at 0x7f1f2c362070>]"
      ]
     },
     "execution_count": 27,
     "metadata": {},
     "output_type": "execute_result"
    },
    {
     "data": {
      "image/png": "[encoded data removed]",
      "text/plain": [
       "<Figure size 432x288 with 1 Axes>"
      ]
     },
     "metadata": {
      "needs_background": "light"
     },
     "output_type": "display_data"
    }
   ],
   "source": [
    "plt.plot(np.linspace(1, len(eval_loss_steps), len(eval_loss_steps)).astype(int), eval_rec_steps, train_rec_steps)\n"
   ]
  }
 ],
 "metadata": {
  "interpreter": {
   "hash": "0d978d79eb62c66c5b96b6ec005982b9fbbb5fc77b9c42540838d3cac3c3757b"
  },
  "kernelspec": {
   "display_name": "Python 3.8.10 ('uni_venv')",
   "language": "python",
   "name": "python3"
  },
  "language_info": {
   "codemirror_mode": {
    "name": "ipython",
    "version": 3
   },
   "file_extension": ".py",
   "mimetype": "text/x-python",
   "name": "python",
   "nbconvert_exporter": "python",
   "pygments_lexer": "ipython3",
   "version": "3.8.10"
  },
  "orig_nbformat": 4
 },
 "nbformat": 4,
 "nbformat_minor": 2
}
