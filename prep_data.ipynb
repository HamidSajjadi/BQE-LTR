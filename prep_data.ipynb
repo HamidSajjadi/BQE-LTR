{
 "cells": [
  {
   "cell_type": "markdown",
   "metadata": {},
   "source": [
    "## Prepare Embeddings Before Training\n",
    "This notebook will pre-calculate the embedding of our queries and their expansion terms.\n",
    "Result is saved as a `pickled` dictionary which maps an expanded query to a tensor of its embeddings.\n",
    "\n",
    "Queries and their candidate is generated using a fine-tuned BERT, so for all the metrics these queries is the same. Using only one file to calculate the embedding is enough. The final pickled file can be used for all of them"
   ]
  },
  {
   "cell_type": "code",
   "execution_count": 1,
   "metadata": {},
   "outputs": [],
   "source": [
    "from transformers import AutoTokenizer, pipeline\n",
    "from transformers import BertForMaskedLM\n",
    "from utils import set_seed\n",
    "import torch\n",
    "import pandas as pd\n",
    "from tqdm import tqdm\n",
    "from utils import save_pickle, get_query_and_candidates_embeddings\n",
    "import os\n",
    "\n",
    "set_seed()"
   ]
  },
  {
   "cell_type": "code",
   "execution_count": 2,
   "metadata": {},
   "outputs": [],
   "source": [
    "model_checkpoint = \"./models/bert/Saved_model_epochs_5/\"\n",
    "tokenizer = AutoTokenizer.from_pretrained(model_checkpoint)\n",
    "model: BertForMaskedLM = BertForMaskedLM.from_pretrained(model_checkpoint)\n",
    "bert_model = model.bert\n",
    "del model"
   ]
  },
  {
   "cell_type": "code",
   "execution_count": 3,
   "metadata": {},
   "outputs": [],
   "source": [
    "device = torch.device('cpu')\n",
    "bert_model = bert_model.to(device)\n"
   ]
  },
  {
   "cell_type": "code",
   "execution_count": 4,
   "metadata": {},
   "outputs": [
    {
     "data": {
      "text/html": [
       "<div>\n",
       "<style scoped>\n",
       "    .dataframe tbody tr th:only-of-type {\n",
       "        vertical-align: middle;\n",
       "    }\n",
       "\n",
       "    .dataframe tbody tr th {\n",
       "        vertical-align: top;\n",
       "    }\n",
       "\n",
       "    .dataframe thead th {\n",
       "        text-align: right;\n",
       "    }\n",
       "</style>\n",
       "<table border=\"1\" class=\"dataframe\">\n",
       "  <thead>\n",
       "    <tr style=\"text-align: right;\">\n",
       "      <th></th>\n",
       "      <th>index</th>\n",
       "      <th>Q_name</th>\n",
       "      <th>candidate</th>\n",
       "      <th>new_q</th>\n",
       "      <th>base_reward</th>\n",
       "      <th>new_reward</th>\n",
       "      <th>label</th>\n",
       "    </tr>\n",
       "  </thead>\n",
       "  <tbody>\n",
       "    <tr>\n",
       "      <th>0</th>\n",
       "      <td>0</td>\n",
       "      <td>coronavirus origin</td>\n",
       "      <td>asian</td>\n",
       "      <td>coronavirus origin asian</td>\n",
       "      <td>0.007</td>\n",
       "      <td>0.019231</td>\n",
       "      <td>1</td>\n",
       "    </tr>\n",
       "    <tr>\n",
       "      <th>1</th>\n",
       "      <td>0</td>\n",
       "      <td>coronavirus origin</td>\n",
       "      <td>natural</td>\n",
       "      <td>coronavirus origin natural</td>\n",
       "      <td>0.007</td>\n",
       "      <td>0.131579</td>\n",
       "      <td>1</td>\n",
       "    </tr>\n",
       "    <tr>\n",
       "      <th>2</th>\n",
       "      <td>0</td>\n",
       "      <td>coronavirus origin</td>\n",
       "      <td>disease</td>\n",
       "      <td>coronavirus origin disease</td>\n",
       "      <td>0.007</td>\n",
       "      <td>0.086000</td>\n",
       "      <td>1</td>\n",
       "    </tr>\n",
       "    <tr>\n",
       "      <th>3</th>\n",
       "      <td>0</td>\n",
       "      <td>coronavirus origin</td>\n",
       "      <td>unknown</td>\n",
       "      <td>coronavirus origin unknown</td>\n",
       "      <td>0.007</td>\n",
       "      <td>0.136612</td>\n",
       "      <td>1</td>\n",
       "    </tr>\n",
       "    <tr>\n",
       "      <th>4</th>\n",
       "      <td>0</td>\n",
       "      <td>coronavirus origin</td>\n",
       "      <td>common</td>\n",
       "      <td>coronavirus origin common</td>\n",
       "      <td>0.007</td>\n",
       "      <td>0.105263</td>\n",
       "      <td>1</td>\n",
       "    </tr>\n",
       "  </tbody>\n",
       "</table>\n",
       "</div>"
      ],
      "text/plain": [
       "   index              Q_name candidate                       new_q  \\\n",
       "0      0  coronavirus origin     asian    coronavirus origin asian   \n",
       "1      0  coronavirus origin   natural  coronavirus origin natural   \n",
       "2      0  coronavirus origin   disease  coronavirus origin disease   \n",
       "3      0  coronavirus origin   unknown  coronavirus origin unknown   \n",
       "4      0  coronavirus origin    common   coronavirus origin common   \n",
       "\n",
       "   base_reward  new_reward  label  \n",
       "0        0.007    0.019231      1  \n",
       "1        0.007    0.131579      1  \n",
       "2        0.007    0.086000      1  \n",
       "3        0.007    0.136612      1  \n",
       "4        0.007    0.105263      1  "
      ]
     },
     "execution_count": 4,
     "metadata": {},
     "output_type": "execute_result"
    }
   ],
   "source": [
    "df = pd.read_csv('./data/precision/expanded_and_labeled_queries_with_pubmed_precision_n1000_200candidates.csv')\n",
    "df.head()"
   ]
  },
  {
   "cell_type": "code",
   "execution_count": 5,
   "metadata": {},
   "outputs": [
    {
     "name": "stderr",
     "output_type": "stream",
     "text": [
      "create embeddings: 100%|██████████| 17941/17941 [01:26<00:00, 208.60it/s]\n"
     ]
    }
   ],
   "source": [
    "\n",
    "query_to_torch = dict()\n",
    "for _, row in tqdm(df.iterrows(), total=len(df), desc=\"create embeddings\"):\n",
    "        query = row['Q_name']\n",
    "        candidate = row['candidate']\n",
    "        key = query + ' ' + candidate\n",
    "        if key not in query_to_torch:\n",
    "            query_to_torch[key] = get_query_and_candidates_embeddings([query], [candidate], tokenizer=tokenizer, bert_model = bert_model, device=device).squeeze()\n"
   ]
  },
  {
   "cell_type": "code",
   "execution_count": 6,
   "metadata": {},
   "outputs": [],
   "source": [
    "save_pickle(query_to_torch,\"./data/expanded_queries_embeddings.pkl\")"
   ]
  }
 ],
 "metadata": {
  "interpreter": {
   "hash": "0d978d79eb62c66c5b96b6ec005982b9fbbb5fc77b9c42540838d3cac3c3757b"
  },
  "kernelspec": {
   "display_name": "Python 3.8.10 ('uni_venv')",
   "language": "python",
   "name": "python3"
  },
  "language_info": {
   "codemirror_mode": {
    "name": "ipython",
    "version": 3
   },
   "file_extension": ".py",
   "mimetype": "text/x-python",
   "name": "python",
   "nbconvert_exporter": "python",
   "pygments_lexer": "ipython3",
   "version": "3.8.10"
  },
  "orig_nbformat": 4
 },
 "nbformat": 4,
 "nbformat_minor": 2
}
